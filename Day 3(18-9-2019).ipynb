{
 "cells": [
  {
   "cell_type": "markdown",
   "metadata": {},
   "source": [
    "### Programming in python with strings\n",
    "- Strings\n",
    "- String slicing\n",
    "- Fundamental programming and examples with strings"
   ]
  },
  {
   "cell_type": "code",
   "execution_count": 2,
   "metadata": {},
   "outputs": [
    {
     "name": "stdout",
     "output_type": "stream",
     "text": [
      "Python\n",
      "Programming\n",
      "<class 'str'>\n",
      "<class 'str'>\n"
     ]
    }
   ],
   "source": [
    "s1='Python'\n",
    "s2=\"Programming\"\n",
    "print(s1)\n",
    "print(s2)\n",
    "print(type(s1))\n",
    "print(type(s2))"
   ]
  },
  {
   "cell_type": "markdown",
   "metadata": {},
   "source": [
    "### String slicing"
   ]
  },
  {
   "cell_type": "code",
   "execution_count": 5,
   "metadata": {},
   "outputs": [
    {
     "name": "stdout",
     "output_type": "stream",
     "text": [
      "y\n",
      "t\n",
      "6\n",
      "n\n",
      "o\n"
     ]
    }
   ],
   "source": [
    "s1='Python'\n",
    "print(s1[1])  # Accessing the first character of string\n",
    "print(s1[2])  # Accessing the second character of string\n",
    "print(len(s1)) # length of string\n",
    "print(s1[len(s1)-1]) # another way of accessing last character\n",
    "print(s1[-2])"
   ]
  },
  {
   "cell_type": "code",
   "execution_count": 12,
   "metadata": {},
   "outputs": [
    {
     "name": "stdout",
     "output_type": "stream",
     "text": [
      "Py\n",
      "on\n",
      "hon\n",
      "tho\n",
      "yP\n"
     ]
    }
   ],
   "source": [
    "print(s1[0:2]) # Accessing the first two characters\n",
    "print(s1[-2:])\n",
    "print(s1[3:])  # Access the character from 3 to last\n",
    "print(s1[2:5]) # Accessing the characters from 2 to 5\n",
    "print(s1[1:-1]) # Access the characters except first and last character"
   ]
  },
  {
   "cell_type": "code",
   "execution_count": 13,
   "metadata": {},
   "outputs": [
    {
     "data": {
      "text/plain": [
       "'nohtyP'"
      ]
     },
     "execution_count": 13,
     "metadata": {},
     "output_type": "execute_result"
    }
   ],
   "source": [
    "s1[-1::-1] # Reverse the string\n"
   ]
  },
  {
   "cell_type": "code",
   "execution_count": 14,
   "metadata": {},
   "outputs": [
    {
     "data": {
      "text/plain": [
       "'Pto'"
      ]
     },
     "execution_count": 14,
     "metadata": {},
     "output_type": "execute_result"
    }
   ],
   "source": [
    "# Access the characters in string alternate\n",
    "# python---pto\n",
    "s1[::2]\n"
   ]
  },
  {
   "cell_type": "code",
   "execution_count": 15,
   "metadata": {},
   "outputs": [
    {
     "data": {
      "text/plain": [
       "'nhy'"
      ]
     },
     "execution_count": 15,
     "metadata": {},
     "output_type": "execute_result"
    }
   ],
   "source": [
    "#Access the alternate characters in reverse direction\n",
    "#Python---nhy\n",
    "s1[::-2]"
   ]
  },
  {
   "cell_type": "code",
   "execution_count": 4,
   "metadata": {},
   "outputs": [
    {
     "name": "stdout",
     "output_type": "stream",
     "text": [
      "Po\n",
      "Ph\n"
     ]
    }
   ],
   "source": [
    "print(s1[::4])\n",
    "print(s1[::3])"
   ]
  },
  {
   "cell_type": "markdown",
   "metadata": {},
   "source": []
  },
  {
   "cell_type": "markdown",
   "metadata": {},
   "source": [
    "### Functions with string operation"
   ]
  },
  {
   "cell_type": "code",
   "execution_count": 6,
   "metadata": {},
   "outputs": [
    {
     "data": {
      "text/plain": [
       "'nohtyP'"
      ]
     },
     "execution_count": 6,
     "metadata": {},
     "output_type": "execute_result"
    }
   ],
   "source": [
    "# reverse the string\n",
    "def reverseStr(s):\n",
    "    return s[-1::-1]\n",
    "reverseStr('Python')"
   ]
  },
  {
   "cell_type": "code",
   "execution_count": 13,
   "metadata": {},
   "outputs": [
    {
     "name": "stdout",
     "output_type": "stream",
     "text": [
      "False\n",
      "True\n"
     ]
    }
   ],
   "source": [
    "#To check the given string is palindrome or not a palindrome\n",
    "def isPalindrome(s):\n",
    "    if s == s[-1::-1]:\n",
    "        return True\n",
    "    return False\n",
    "print(isPalindrome('Python'))\n",
    "print(isPalindrome('ganag'))\n",
    "    "
   ]
  },
  {
   "cell_type": "code",
   "execution_count": 19,
   "metadata": {},
   "outputs": [
    {
     "name": "stdout",
     "output_type": "stream",
     "text": [
      "P T "
     ]
    }
   ],
   "source": [
    "#function to print Upper case characters\n",
    "#Example: PyThon---PT\n",
    "\n",
    "#ASCII\n",
    "# A-Z : 65-90\n",
    "# a-z : 97-122\n",
    "# 0-9 : 48-57\n",
    "#space : 32\n",
    "\n",
    "def printUpper(s):\n",
    "    for i in range(len(s)):\n",
    "        if ord(s[i])>=65 and ord(s[i])<=90:\n",
    "            print(s[i],end=' ')\n",
    "    return\n",
    "printUpper('PyThon')\n"
   ]
  },
  {
   "cell_type": "code",
   "execution_count": 21,
   "metadata": {},
   "outputs": [
    {
     "data": {
      "text/plain": [
       "114"
      ]
     },
     "execution_count": 21,
     "metadata": {},
     "output_type": "execute_result"
    }
   ],
   "source": [
    "ord('r')"
   ]
  },
  {
   "cell_type": "code",
   "execution_count": null,
   "metadata": {},
   "outputs": [],
   "source": []
  },
  {
   "cell_type": "code",
   "execution_count": 45,
   "metadata": {},
   "outputs": [
    {
     "name": "stdout",
     "output_type": "stream",
     "text": [
      "sameCount\n"
     ]
    }
   ],
   "source": [
    "# Function to return the output as 'samecount' or 'programming'\n",
    "# Samecount: lower and upper chars have same count\n",
    "# Programming: Lower and upper chars case is not same\n",
    "# ex: PyThOn----3 PTO\n",
    "#           ----3 yhn\n",
    "# output: Samecount\n",
    "\n",
    "def findcharCount(s):\n",
    "    Uc=0\n",
    "    Lc=0  \n",
    "    for i in range(len(s)):\n",
    "        if ord(s[i])>=65 and ord(s[i])<=90:\n",
    "            Uc=Uc+1\n",
    "        elif ord(s[i])>=97 and ord(s[i])<=122:\n",
    "            Lc=Lc+1  \n",
    "    if Uc==Lc:\n",
    "        print('sameCount')\n",
    "    else:\n",
    "        print('Programming')\n",
    "    return\n",
    "findcharCount('PyThOn')            \n",
    "                \n",
    "    \n",
    "    "
   ]
  },
  {
   "cell_type": "code",
   "execution_count": 47,
   "metadata": {},
   "outputs": [
    {
     "name": "stdout",
     "output_type": "stream",
     "text": [
      "1 8 8 9 "
     ]
    }
   ],
   "source": [
    "#Function to extract the digits from the string\n",
    "#example #1:\n",
    "# input :Appli18cation89\n",
    "# output: 1 8 8 9\n",
    "\n",
    "def extractDigits(s):\n",
    "    for i in range(len(s)):\n",
    "        if ord(s[i])>=48 and ord(s[i])<=57:\n",
    "            print(s[i],end=' ')\n",
    "    return\n",
    "extractDigits('Appli18cation89')"
   ]
  },
  {
   "cell_type": "code",
   "execution_count": 57,
   "metadata": {},
   "outputs": [
    {
     "data": {
      "text/plain": [
       "26"
      ]
     },
     "execution_count": 57,
     "metadata": {},
     "output_type": "execute_result"
    }
   ],
   "source": [
    "#function to add the digits of the string\n",
    "# example #1:\n",
    "# input: Appli18cation89\n",
    "# output: Output:26(1+8+8+9)\n",
    "\n",
    "def addDigits(s):\n",
    "    sum=0   \n",
    "    for i in range(len(s)):\n",
    "        if ord(s[i])>=48 and ord(s[i])<=57:\n",
    "            sum=sum+int(s[i])\n",
    "        \n",
    "    return sum\n",
    "addDigits('Appli18cation89')  \n",
    "    \n",
    "                    "
   ]
  },
  {
   "cell_type": "code",
   "execution_count": 61,
   "metadata": {},
   "outputs": [
    {
     "name": "stdout",
     "output_type": "stream",
     "text": [
      "M A D E "
     ]
    }
   ],
   "source": [
    "#Function to specify word in upper case\n",
    "#example #1:\n",
    "#input : Python Made Easy\n",
    "#Output: MADE\n",
    "\n",
    "#input: Learn python strings\n",
    "#output: PYTHON\n",
    "\n",
    "def specifyUpper(s):\n",
    "    cntSpace=0\n",
    "    for i in range(len(s)):\n",
    "        if ord(s[i])==32:\n",
    "            cntSpace += 1\n",
    "        if cntSpace==1:\n",
    "            if ord(s[i])>=65 and ord(s[i])<=90:\n",
    "                print(s[i],end=' ')\n",
    "            elif ord(s[i])>=97 and ord(s[i])<=122:\n",
    "                print(chr(ord(s[i])-32), end=' ')\n",
    "        if cntSpace==2:\n",
    "            break\n",
    "    return        \n",
    "specifyUpper('python made Easy')\n",
    "        \n",
    "        "
   ]
  },
  {
   "cell_type": "markdown",
   "metadata": {},
   "source": [
    "### list\n",
    "- One of the Data structure in python\n",
    "- Data structure means to store, sort and search options\n",
    "- Its one common data structure in python, the items of list separated by comma enclosed in square brackets[]\n",
    "     -example\n",
    "       -list=[1,2,3,4,5]\n",
    "       -list2=[\"gitam\",1,2.189,\"vizag]"
   ]
  },
  {
   "cell_type": "code",
   "execution_count": 63,
   "metadata": {},
   "outputs": [
    {
     "name": "stdout",
     "output_type": "stream",
     "text": [
      "[1, 8, 16, 9, 2]\n",
      "1\n",
      "8\n",
      "2\n",
      "[9, 2]\n"
     ]
    }
   ],
   "source": [
    "li=[1,8,16,9,2]\n",
    "print(li) # will print all the list items\n",
    "print(li[0]) # Access first item of the list\n",
    "print(li[1]) # Access second item of the list\n",
    "print(li[-1]) # Access the last item of the list\n",
    "print(li[3:])"
   ]
  },
  {
   "cell_type": "code",
   "execution_count": null,
   "metadata": {},
   "outputs": [],
   "source": [
    "li=[\"gitam\", 1582,2018,2019, \"vizag\"]\n",
    "print(li)\n"
   ]
  },
  {
   "cell_type": "code",
   "execution_count": null,
   "metadata": {},
   "outputs": [],
   "source": []
  },
  {
   "cell_type": "code",
   "execution_count": null,
   "metadata": {},
   "outputs": [],
   "source": []
  },
  {
   "cell_type": "code",
   "execution_count": 7,
   "metadata": {},
   "outputs": [
    {
     "name": "stdout",
     "output_type": "stream",
     "text": [
      "4\n",
      "[1, 2, 3, 4, 1, 2, 3, 4]\n",
      "True\n",
      "False\n",
      "1 2 3 4 \n",
      "1 2 3 4 "
     ]
    }
   ],
   "source": [
    "#Basic list operations\n",
    "li=[1,2,3,4]\n",
    "#len of the list\n",
    "print(len(li))\n",
    "#list repeation\n",
    "print(li*2)\n",
    "# to know certain item is present in the list or not\n",
    "print(4 in li)\n",
    "print(10 in li)\n",
    "#Access the list items from iterations\n",
    "# 1 way to define\n",
    "for i in range(len(li)):\n",
    "    print(li[i],end=' ')\n",
    "print()\n",
    "# 2way\n",
    "for i in li:\n",
    "    print(i, end=' ')"
   ]
  },
  {
   "cell_type": "code",
   "execution_count": 4,
   "metadata": {},
   "outputs": [
    {
     "name": "stdout",
     "output_type": "stream",
     "text": [
      "25\n",
      "1\n",
      "56\n",
      "11\n"
     ]
    }
   ],
   "source": [
    "# Basic list functions\n",
    "li=[1,9,16,25,5]\n",
    "print(max(li))\n",
    "print(min(li))\n",
    "print(sum(li))\n",
    "print(sum(li)//len(li))"
   ]
  },
  {
   "cell_type": "code",
   "execution_count": 4,
   "metadata": {},
   "outputs": [
    {
     "data": {
      "text/plain": [
       "4"
      ]
     },
     "execution_count": 4,
     "metadata": {},
     "output_type": "execute_result"
    }
   ],
   "source": [
    "# methods of list\n",
    "li=[1,9,16,25,5]\n",
    "li\n",
    "li.append(29) # add the new item at the end of list\n",
    "li.insert(2,56) # add the new item of the specific list\n",
    "li.append(9)\n",
    "li.count(9) # returns the value how many object repeated\n",
    "li.index(25)"
   ]
  },
  {
   "cell_type": "code",
   "execution_count": 7,
   "metadata": {},
   "outputs": [
    {
     "data": {
      "text/plain": [
       "[1, 5, 9, 9, 16, 25]"
      ]
     },
     "execution_count": 7,
     "metadata": {},
     "output_type": "execute_result"
    }
   ],
   "source": [
    "li.sort() #sorts the list in ascending order\n",
    "li.pop() # last index value\n",
    "li"
   ]
  },
  {
   "cell_type": "code",
   "execution_count": 12,
   "metadata": {},
   "outputs": [],
   "source": [
    "li1=[1,6,18,23]\n",
    "li.extend(li1)\n",
    "li.reverse\n"
   ]
  },
  {
   "cell_type": "code",
   "execution_count": 15,
   "metadata": {},
   "outputs": [
    {
     "name": "stdout",
     "output_type": "stream",
     "text": [
      "6\n",
      "22\n"
     ]
    }
   ],
   "source": [
    "# function to return the large number from the list\n",
    "def largeNumber(li):\n",
    "    li.sort()\n",
    "    return li[-1]\n",
    "def genericLarge(li,n):\n",
    "    li.sort()\n",
    "    return li[-n]\n",
    "li=[19,1,25,6,9,45,22]\n",
    "print(largeNumber(li))\n",
    "print(genericLarge(li,3))"
   ]
  },
  {
   "cell_type": "code",
   "execution_count": 18,
   "metadata": {},
   "outputs": [
    {
     "name": "stdout",
     "output_type": "stream",
     "text": [
      "1\n",
      "19\n"
     ]
    }
   ],
   "source": [
    "#function to return the least and generic least number from the list\n",
    "def leastNumber(li):\n",
    "    li.sort()\n",
    "    return li[0]\n",
    "def genericLeast(li,n):\n",
    "    li.sort()\n",
    "    return li[n-1]\n",
    "li=[19,1,25,6,9,45,22]\n",
    "print(leastNumber(li))\n",
    "print(genericLeast(li,4))"
   ]
  },
  {
   "cell_type": "markdown",
   "metadata": {},
   "source": [
    "### File Handling Python\n",
    "- File - Document which contains some information and resides on permanent devices\n",
    "- Different types of files -- .txt,.pdf,.doc,.ppf etc..\n",
    "- Input-- Keyboard\n",
    "- Output- File system"
   ]
  },
  {
   "cell_type": "code",
   "execution_count": 36,
   "metadata": {},
   "outputs": [
    {
     "name": "stdout",
     "output_type": "stream",
     "text": [
      "file is successfully created and file inserted\n"
     ]
    }
   ],
   "source": [
    "# Function to create file and write some data to the file\n",
    "\n",
    "def createFile(filename):\n",
    "    f=open(filename,'w')\n",
    "    for i in range(10):\n",
    "        f.write('This is %d line\\n' % i)\n",
    "    print('file is successfully created and file inserted')   \n",
    "    return\n",
    "createFile('data.txt')"
   ]
  },
  {
   "cell_type": "code",
   "execution_count": 28,
   "metadata": {},
   "outputs": [
    {
     "data": {
      "text/plain": [
       "'C:\\\\Users\\\\DELL\\\\Desktop\\\\Program solving and programming'"
      ]
     },
     "execution_count": 28,
     "metadata": {},
     "output_type": "execute_result"
    }
   ],
   "source": [
    "pwd\n"
   ]
  },
  {
   "cell_type": "code",
   "execution_count": 31,
   "metadata": {},
   "outputs": [
    {
     "name": "stdout",
     "output_type": "stream",
     "text": [
      "completed successfully\n"
     ]
    }
   ],
   "source": [
    "def createFile(filename):\n",
    "    f=open(filename,'w')\n",
    "    f.write('Gitam vizag python training')\n",
    "    print('completed successfully')\n",
    "    return\n",
    "createFile('data.txt')"
   ]
  },
  {
   "cell_type": "code",
   "execution_count": 37,
   "metadata": {},
   "outputs": [
    {
     "name": "stdout",
     "output_type": "stream",
     "text": [
      "completed successfully\n"
     ]
    }
   ],
   "source": [
    "#Mode a(if the file is not avaialble it create the file)\n",
    "#----- if the file is already present with the same name\n",
    "#----- append the data at the end of the previous line\n",
    "def appendMode(filename):\n",
    "    f=open(filename,'a')\n",
    "    f.write('Gitam vizag\\n')\n",
    "    f.write('python programming\\n')\n",
    "    print('completed successfully')\n",
    "    return\n",
    "appendMode('data.txt')"
   ]
  },
  {
   "cell_type": "code",
   "execution_count": 38,
   "metadata": {},
   "outputs": [
    {
     "name": "stdout",
     "output_type": "stream",
     "text": [
      "This is 0 line\n",
      "This is 1 line\n",
      "This is 2 line\n",
      "This is 3 line\n",
      "This is 4 line\n",
      "This is 5 line\n",
      "This is 6 line\n",
      "This is 7 line\n",
      "This is 8 line\n",
      "This is 9 line\n",
      "Gitam vizag\n",
      "python programming\n",
      "\n"
     ]
    }
   ],
   "source": [
    "# Function to read the file\n",
    "def readFiledata(filename):\n",
    "    f=open(filename,'r')\n",
    "    if f.mode=='r':\n",
    "        a=f.read()\n",
    "        print(a)\n",
    "    f.close()\n",
    "    return\n",
    "readFiledata('data.txt')"
   ]
  },
  {
   "cell_type": "code",
   "execution_count": 39,
   "metadata": {},
   "outputs": [
    {
     "name": "stdout",
     "output_type": "stream",
     "text": [
      "['python', 'Programming']\n"
     ]
    }
   ],
   "source": [
    "# Analysis on thje file --word count, char count, Digit count\n",
    "s1='python Programming'\n",
    "print(s1.split())"
   ]
  },
  {
   "cell_type": "code",
   "execution_count": 41,
   "metadata": {},
   "outputs": [
    {
     "data": {
      "text/plain": [
       "44"
      ]
     },
     "execution_count": 41,
     "metadata": {},
     "output_type": "execute_result"
    }
   ],
   "source": [
    "#word Count---Input file\n",
    "def wordCount(filename):\n",
    "    with open(filename,'r') as f:    #idomatic programming\n",
    "        if f.mode == 'r':\n",
    "            a=f.read()\n",
    "            li=a.split()        #Divides the words by using white space\n",
    "    return len(li)    \n",
    "wordCount('data.txt')      "
   ]
  },
  {
   "cell_type": "code",
   "execution_count": 44,
   "metadata": {},
   "outputs": [
    {
     "data": {
      "text/plain": [
       "1"
      ]
     },
     "execution_count": 44,
     "metadata": {},
     "output_type": "execute_result"
    }
   ],
   "source": [
    "#Specific word count from the file\n",
    "#input---This\n",
    "#Output---10\n",
    "#ex:2\n",
    "# input----Vizag\n",
    "#Output----1\n",
    "\n",
    "def specificCount(filename,word):\n",
    "    with open(filename,'r') as f:\n",
    "        if f.mode == 'r':\n",
    "            a=f.read()\n",
    "            li=a.split()\n",
    "    return li.count(word)       \n",
    "specificCount('data.txt','vizag')\n",
    "    "
   ]
  },
  {
   "cell_type": "code",
   "execution_count": 46,
   "metadata": {},
   "outputs": [
    {
     "data": {
      "text/plain": [
       "181"
      ]
     },
     "execution_count": 46,
     "metadata": {},
     "output_type": "execute_result"
    }
   ],
   "source": [
    "# Function to find the character count from the input file\n",
    "def charCount(filename):\n",
    "    with open(filename,'r') as f:\n",
    "        if f.mode=='r':\n",
    "            a=f.read()\n",
    "            li=list(a)   #Converts the input string into sequence of characters and finding the len of---\n",
    "                                #-----------list becomes as character count of the input file\n",
    "    return len(li)\n",
    "charCount('data.txt')\n",
    "\n"
   ]
  },
  {
   "cell_type": "code",
   "execution_count": 45,
   "metadata": {},
   "outputs": [
    {
     "name": "stdout",
     "output_type": "stream",
     "text": [
      "['A', 'n', 'u', 's', 'h', 'a', ' ', 'p', 'r', 'a', 'v', 'a', 'l', 'l', 'i', 'k', 'a']\n"
     ]
    }
   ],
   "source": [
    "s='Anusha pravallika'\n",
    "li=list(s)\n",
    "print(li)"
   ]
  },
  {
   "cell_type": "code",
   "execution_count": 49,
   "metadata": {},
   "outputs": [
    {
     "data": {
      "text/plain": [
       "13"
      ]
     },
     "execution_count": 49,
     "metadata": {},
     "output_type": "execute_result"
    }
   ],
   "source": [
    "#Find no of lines or rows in the given input stream\n",
    "def findLineCount(filename):\n",
    "    with open(filename,'r') as f:\n",
    "        if f.mode=='r':\n",
    "            a=f.read()\n",
    "            li=a.split('\\n')\n",
    "    return  len(li)\n",
    "findLineCount('data.txt')"
   ]
  },
  {
   "cell_type": "code",
   "execution_count": 54,
   "metadata": {},
   "outputs": [
    {
     "data": {
      "text/plain": [
       "'Upper case :11 Lower case :116 Digit :10'"
      ]
     },
     "execution_count": 54,
     "metadata": {},
     "output_type": "execute_result"
    }
   ],
   "source": [
    "# Function to find the upper and lower case characters\n",
    "# from the input stream\n",
    "def caseCount(filename):\n",
    "    cntUpper=0\n",
    "    cntLower=0\n",
    "    cntDigit=0\n",
    "    with open(filename,'r') as f:\n",
    "        if f.mode=='r':\n",
    "            a=f.read()\n",
    "            li=list(a)\n",
    "    for i in range(len(li)):\n",
    "        if ord(li[i])>=65 and ord(li[i])<=90:\n",
    "            cntUpper +=1\n",
    "        elif ord(li[i])>=97 and ord(li[i])<=122:\n",
    "            cntLower +=1\n",
    "        elif ord(li[i])>=48 and ord(li[i])<=57:\n",
    "            cntDigit +=1\n",
    "    output='Upper case :{0} Lower case :{1} Digit :{2}'.format(cntUpper,cntLower,cntDigit)\n",
    "    return output\n",
    "caseCount('data.txt')"
   ]
  },
  {
   "cell_type": "code",
   "execution_count": 6,
   "metadata": {},
   "outputs": [
    {
     "data": {
      "text/plain": [
       "16"
      ]
     },
     "execution_count": 6,
     "metadata": {},
     "output_type": "execute_result"
    }
   ],
   "source": [
    "# Function to return the sum of digits in a given string\n",
    "# Example : \n",
    "# Input : Applc18iation89\n",
    "# Output: 16(8+8)\n",
    "def sumOfEven(str):\n",
    "    sum = 0\n",
    "    for i in range(len(str)):\n",
    "        if ord(str[i]) >= 48 and ord(str[i]) <= 57:\n",
    "            if (ord(str[i])) % 2 == 0:\n",
    "                sum = sum + int(str[i])           \n",
    "    return sum\n",
    "sumOfEven('Applc18iation89')"
   ]
  },
  {
   "cell_type": "code",
   "execution_count": 3,
   "metadata": {},
   "outputs": [
    {
     "name": "stdout",
     "output_type": "stream",
     "text": [
      " python  easy"
     ]
    }
   ],
   "source": [
    "#Output will be alternate words in lower case\n",
    "\n",
    "def wordLowerCase(s):\n",
    "    spaceCnt = 0\n",
    "    for x in range(len(s)):        \n",
    "        if ord(s[x]) == 32:\n",
    "            print(end=' ')\n",
    "            spaceCnt += 1 # spaceCnt = spaceCnt + 1           \n",
    "        if spaceCnt %2!=0:\n",
    "            if ord(s[x]) >= 65 and ord(s[x]) <= 90:\n",
    "                print(chr(ord(s[x])+32),end=\"\")\n",
    "            elif ord(s[x]) >= 97 and ord(s[x]) <= 122:\n",
    "                print(s[x],end=\"\")\n",
    "    return\n",
    "wordLowerCase('Learn Python Programming EASy')"
   ]
  },
  {
   "cell_type": "code",
   "execution_count": 10,
   "metadata": {},
   "outputs": [
    {
     "name": "stdout",
     "output_type": "stream",
     "text": [
      "2\n"
     ]
    }
   ],
   "source": [
    "#Print no of occurance of character in the given string\n",
    "\n",
    "def noOccurance(s,c):\n",
    "    a=0\n",
    "    for i in range(len(s)):\n",
    "        if ord(s[i])==ord(c):\n",
    "            a+=1\n",
    "    print(a)\n",
    "    return\n",
    "noOccurance('anusha','a')"
   ]
  },
  {
   "cell_type": "code",
   "execution_count": 1,
   "metadata": {},
   "outputs": [
    {
     "name": "stdout",
     "output_type": "stream",
     "text": [
      "pYTHONproGRAMMIng"
     ]
    }
   ],
   "source": [
    "def wordLowerCase(s):\n",
    "    for x in range(len(s)):\n",
    "        if ord(s[x]) >= 65 and ord(s[x]) <= 90:\n",
    "                print(chr(ord(s[x])+32),end=\"\")\n",
    "        elif ord(s[x]) >= 97 and ord(s[x]) <= 122:\n",
    "                print(chr(ord(s[x])-32), end=\"\")\n",
    "       \n",
    "    return\n",
    "wordLowerCase('PythonPROgrammiNG')\n"
   ]
  },
  {
   "cell_type": "code",
   "execution_count": null,
   "metadata": {},
   "outputs": [],
   "source": []
  }
 ],
 "metadata": {
  "kernelspec": {
   "display_name": "Python 3",
   "language": "python",
   "name": "python3"
  },
  "language_info": {
   "codemirror_mode": {
    "name": "ipython",
    "version": 3
   },
   "file_extension": ".py",
   "mimetype": "text/x-python",
   "name": "python",
   "nbconvert_exporter": "python",
   "pygments_lexer": "ipython3",
   "version": "3.7.3"
  }
 },
 "nbformat": 4,
 "nbformat_minor": 2
}
