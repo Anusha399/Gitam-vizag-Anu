{
 "cells": [
  {
   "cell_type": "markdown",
   "metadata": {},
   "source": [
    "### String Functions\n",
    "- upper()--- Will convert the input string into upper case\n",
    "- Lower()--- Will convert the input string into lower case\n"
   ]
  },
  {
   "cell_type": "code",
   "execution_count": 1,
   "metadata": {},
   "outputs": [
    {
     "name": "stdout",
     "output_type": "stream",
     "text": [
      "PYTHON\n",
      "python\n"
     ]
    }
   ],
   "source": [
    "s1='Python'\n",
    "print(s1.upper())\n",
    "print(s1.lower())\n"
   ]
  },
  {
   "cell_type": "markdown",
   "metadata": {},
   "source": [
    "### String boolean Function\n",
    "- True or false\n",
    "- islower()---  True if the string have all characters lower\n",
    "- isupper()---  True if the string have all characters upper\n",
    "- istitle()---  True if the string in title case\n",
    "- isnumeric()-- True if the string numeric\n",
    "- isalpha()---  True if the string is only alphabets\n",
    "- isspace()---  True if the string is space"
   ]
  },
  {
   "cell_type": "code",
   "execution_count": 3,
   "metadata": {},
   "outputs": [
    {
     "name": "stdout",
     "output_type": "stream",
     "text": [
      "True\n",
      "False\n"
     ]
    }
   ],
   "source": [
    "s =\"python\"\n",
    "print(s.islower())\n",
    "print(s.isupper())"
   ]
  },
  {
   "cell_type": "code",
   "execution_count": 4,
   "metadata": {},
   "outputs": [
    {
     "name": "stdout",
     "output_type": "stream",
     "text": [
      "False\n"
     ]
    }
   ],
   "source": [
    "s1='Python programming'\n",
    "print(s1.istitle())"
   ]
  },
  {
   "cell_type": "code",
   "execution_count": 5,
   "metadata": {},
   "outputs": [
    {
     "name": "stdout",
     "output_type": "stream",
     "text": [
      "True\n",
      "False\n"
     ]
    }
   ],
   "source": [
    "s1='123456'\n",
    "s2='Py123'\n",
    "print(s1.isnumeric())\n",
    "print(s2.isnumeric())"
   ]
  },
  {
   "cell_type": "code",
   "execution_count": 8,
   "metadata": {},
   "outputs": [
    {
     "name": "stdout",
     "output_type": "stream",
     "text": [
      "False\n",
      "True\n"
     ]
    }
   ],
   "source": [
    "s1='Py123456'\n",
    "s2='Python'\n",
    "print(s1.isalpha())\n",
    "print(s2.isalpha())"
   ]
  },
  {
   "cell_type": "code",
   "execution_count": 9,
   "metadata": {},
   "outputs": [
    {
     "name": "stdout",
     "output_type": "stream",
     "text": [
      "False\n",
      "True\n"
     ]
    }
   ],
   "source": [
    "s1='puzzle'\n",
    "s2='  '\n",
    "print(s1.isspace())\n",
    "print(s2.isspace())"
   ]
  },
  {
   "cell_type": "markdown",
   "metadata": {},
   "source": [
    "### String methods\n",
    "- Split()--- returns the list of strings seperated by space\n",
    "- Replace()--- returns the string replaces the word character\n",
    "- Join()------ Concatination of two strings"
   ]
  },
  {
   "cell_type": "code",
   "execution_count": 10,
   "metadata": {},
   "outputs": [
    {
     "name": "stdout",
     "output_type": "stream",
     "text": [
      "['Python', 'programming', 'learn', 'made', 'easy']\n"
     ]
    }
   ],
   "source": [
    "s1='Python programming learn made easy'\n",
    "li=s1.split() # Default is white space\n",
    "print(li)"
   ]
  },
  {
   "cell_type": "code",
   "execution_count": 12,
   "metadata": {},
   "outputs": [
    {
     "name": "stdout",
     "output_type": "stream",
     "text": [
      "['Python progr', 'mming le', 'rn m', 'de e', 'sy']\n"
     ]
    }
   ],
   "source": [
    "s1='Python programming learn made easy'\n",
    "li=s1.split('a')\n",
    "print(li)"
   ]
  },
  {
   "cell_type": "code",
   "execution_count": 1,
   "metadata": {},
   "outputs": [
    {
     "name": "stdout",
     "output_type": "stream",
     "text": [
      "Python!programming!learn!made!easy\n"
     ]
    }
   ],
   "source": [
    "s1='Python programming learn made easy'\n",
    "print(s1.replace(' ','!'))"
   ]
  },
  {
   "cell_type": "code",
   "execution_count": 3,
   "metadata": {},
   "outputs": [
    {
     "name": "stdout",
     "output_type": "stream",
     "text": [
      "Python programming learn made easy\n"
     ]
    }
   ],
   "source": [
    "s1='Python programming learn made easy'\n",
    "print(s1.replace('a ','@'))"
   ]
  },
  {
   "cell_type": "code",
   "execution_count": 5,
   "metadata": {},
   "outputs": [
    {
     "name": "stdout",
     "output_type": "stream",
     "text": [
      "p- y- t- h- o- n\n"
     ]
    }
   ],
   "source": [
    "s1='python'\n",
    "print('- '.join(s1))"
   ]
  },
  {
   "cell_type": "markdown",
   "metadata": {},
   "source": [
    "### String Formatting\n",
    "- Classic Version\n",
    "- Current Version Python"
   ]
  },
  {
   "cell_type": "code",
   "execution_count": 13,
   "metadata": {},
   "outputs": [
    {
     "name": "stdout",
     "output_type": "stream",
     "text": [
      "1 2 3 4\n"
     ]
    }
   ],
   "source": [
    "# classic version (c or c++)\n",
    "li=[1,2,3,4]\n",
    "print('%d %d %d %d' % (li[0],li[1],li[2],li[3]))"
   ]
  },
  {
   "cell_type": "code",
   "execution_count": 15,
   "metadata": {},
   "outputs": [
    {
     "name": "stdout",
     "output_type": "stream",
     "text": [
      "list item 0:python\n",
      "list item 1:programming\n"
     ]
    }
   ],
   "source": [
    "#format\n",
    "li=['python','programming']\n",
    "print('list item 0:{0}\\nlist item 1:{1}'.format(li[0],li[1]))"
   ]
  },
  {
   "cell_type": "markdown",
   "metadata": {},
   "source": [
    "### Data Structures\n",
    "- list\n",
    "- tuples\n",
    "- Dictionaries\n"
   ]
  },
  {
   "cell_type": "markdown",
   "metadata": {},
   "source": [
    "### Dictionaries\n",
    "- It works on concept of Unique data'\n",
    "- Key,value is the unique identifier a value\n",
    "- Each key is separated from value colon(:)\n",
    "- Each key and value is separated by comma(,)\n",
    "- Dictionaries are enclosed with curly brackets({})\n"
   ]
  },
  {
   "cell_type": "code",
   "execution_count": 1,
   "metadata": {},
   "outputs": [
    {
     "name": "stdout",
     "output_type": "stream",
     "text": [
      "{'Name': 'Gitam', 'email id': 'gitam@gmail.com', 'Address': 'vizag'}\n"
     ]
    }
   ],
   "source": [
    "d1={'Name':'Gitam', 'email id':'gitam@gmail.com','Address':'vizag'}\n",
    "print(d1)"
   ]
  },
  {
   "cell_type": "code",
   "execution_count": 2,
   "metadata": {},
   "outputs": [
    {
     "data": {
      "text/plain": [
       "'gitam@gmail.com'"
      ]
     },
     "execution_count": 2,
     "metadata": {},
     "output_type": "execute_result"
    }
   ],
   "source": [
    "d1['email id']"
   ]
  },
  {
   "cell_type": "code",
   "execution_count": 6,
   "metadata": {},
   "outputs": [],
   "source": [
    "d1['email id']='gitamVizag@gmail.com' # Update the value using key"
   ]
  },
  {
   "cell_type": "code",
   "execution_count": 7,
   "metadata": {},
   "outputs": [
    {
     "data": {
      "text/plain": [
       "'gitamVizag@gmail.com'"
      ]
     },
     "execution_count": 7,
     "metadata": {},
     "output_type": "execute_result"
    }
   ],
   "source": [
    "d1['email id']"
   ]
  },
  {
   "cell_type": "code",
   "execution_count": 8,
   "metadata": {},
   "outputs": [
    {
     "data": {
      "text/plain": [
       "dict_keys(['Name', 'email id', 'Address'])"
      ]
     },
     "execution_count": 8,
     "metadata": {},
     "output_type": "execute_result"
    }
   ],
   "source": [
    "d1.keys() # all the keys of dictionary object"
   ]
  },
  {
   "cell_type": "code",
   "execution_count": 9,
   "metadata": {},
   "outputs": [
    {
     "data": {
      "text/plain": [
       "dict_values(['Gitam', 'gitamVizag@gmail.com', 'vizag'])"
      ]
     },
     "execution_count": 9,
     "metadata": {},
     "output_type": "execute_result"
    }
   ],
   "source": [
    "d1.values() # all the values of dic"
   ]
  },
  {
   "cell_type": "code",
   "execution_count": 10,
   "metadata": {},
   "outputs": [],
   "source": [
    "del d1['email id'] # only deletes one key and value"
   ]
  },
  {
   "cell_type": "code",
   "execution_count": 11,
   "metadata": {},
   "outputs": [
    {
     "data": {
      "text/plain": [
       "{'Name': 'Gitam', 'Address': 'vizag'}"
      ]
     },
     "execution_count": 11,
     "metadata": {},
     "output_type": "execute_result"
    }
   ],
   "source": [
    "d1    # delete the entire dict object"
   ]
  },
  {
   "cell_type": "markdown",
   "metadata": {},
   "source": []
  },
  {
   "cell_type": "code",
   "execution_count": null,
   "metadata": {},
   "outputs": [],
   "source": []
  },
  {
   "cell_type": "markdown",
   "metadata": {},
   "source": [
    "### Contact Applications\n",
    "- Add Contact Details\n",
    "- Search the contact details\n",
    "- list all the contacts(Merge/import)\n",
    "       - Name1: Value\n",
    "       -Name2: Value\n",
    "- Modify or update the details       "
   ]
  },
  {
   "cell_type": "code",
   "execution_count": 16,
   "metadata": {},
   "outputs": [
    {
     "name": "stdout",
     "output_type": "stream",
     "text": [
      "contact details added successfully\n",
      "contact details added successfully\n",
      "contact details added successfully\n",
      "contact details added successfully\n"
     ]
    }
   ],
   "source": [
    "contacts={} # empty dict object\n",
    "# lets create a function to add contact details\n",
    "def addContact(name,phone):\n",
    "    if name not in contacts: # cond to check name is exist or not\n",
    "        contacts[name]=phone\n",
    "        print('contact details added successfully')\n",
    "    else:\n",
    "        print('Name is already exits')\n",
    "    return\n",
    "addContact('anu',8143131959)\n",
    "addContact('John',123456789)\n",
    "addContact('Ram',9999999999)"
   ]
  },
  {
   "cell_type": "code",
   "execution_count": 23,
   "metadata": {},
   "outputs": [
    {
     "name": "stdout",
     "output_type": "stream",
     "text": [
      "anu :  8143131959\n",
      "Gitam does not present\n"
     ]
    }
   ],
   "source": [
    "def searchContacts(name):\n",
    "    if name in contacts:\n",
    "        print(name, ': ',contacts[name])\n",
    "    else:\n",
    "        print('%s does not present' %name)\n",
    "    return    \n",
    "searchContacts('anu')\n",
    "searchContacts('Gitam')"
   ]
  },
  {
   "cell_type": "code",
   "execution_count": 25,
   "metadata": {},
   "outputs": [
    {
     "name": "stdout",
     "output_type": "stream",
     "text": [
      "2 contacts added\n"
     ]
    }
   ],
   "source": [
    "# Import new contact details\n",
    "# Merge the previous details with new details\n",
    "def importContacts(newContacts):\n",
    "    contacts.update(newContacts)\n",
    "    print(len(newContacts.keys()),'contacts added')\n",
    "    return\n",
    "newContacts={'gitam':9988888888, 'Bindu':9999999998}\n",
    "importContacts(newContacts)"
   ]
  },
  {
   "cell_type": "code",
   "execution_count": 26,
   "metadata": {},
   "outputs": [
    {
     "data": {
      "text/plain": [
       "{'anu': 8143131959,\n",
       " 'John': 123456789,\n",
       " 'Ram': 9999999999,\n",
       " 'john': 123456789,\n",
       " 'gitam': 9988888888,\n",
       " 'Bindu': 9999999998}"
      ]
     },
     "execution_count": 26,
     "metadata": {},
     "output_type": "execute_result"
    }
   ],
   "source": [
    "contacts"
   ]
  },
  {
   "cell_type": "code",
   "execution_count": 27,
   "metadata": {},
   "outputs": [
    {
     "name": "stdout",
     "output_type": "stream",
     "text": [
      "anu Updated Successfully\n",
      "pral Not exists\n"
     ]
    }
   ],
   "source": [
    "def modifyContact(name,phone):\n",
    "    if name in contacts:\n",
    "        contacts[name]=phone\n",
    "        print(name,'Updated Successfully')\n",
    "    else:\n",
    "        print(name,'Not exists')\n",
    "    return\n",
    "modifyContact('anu',9390541112)\n",
    "modifyContact('pral',921882772)"
   ]
  },
  {
   "cell_type": "code",
   "execution_count": 28,
   "metadata": {},
   "outputs": [
    {
     "data": {
      "text/plain": [
       "{'anu': 9390541112,\n",
       " 'John': 123456789,\n",
       " 'Ram': 9999999999,\n",
       " 'john': 123456789,\n",
       " 'gitam': 9988888888,\n",
       " 'Bindu': 9999999998}"
      ]
     },
     "execution_count": 28,
     "metadata": {},
     "output_type": "execute_result"
    }
   ],
   "source": [
    "contacts"
   ]
  },
  {
   "cell_type": "code",
   "execution_count": 29,
   "metadata": {},
   "outputs": [
    {
     "name": "stdout",
     "output_type": "stream",
     "text": [
      "Ram deleted successfully\n",
      "kelly not present\n"
     ]
    }
   ],
   "source": [
    "def deleteContact(name):\n",
    "    if name in contacts:\n",
    "        del contacts[name]\n",
    "        print(name,'deleted successfully')\n",
    "    else:\n",
    "        print(name,'not present')\n",
    "    return\n",
    "deleteContact('Ram')\n",
    "deleteContact('kelly')"
   ]
  },
  {
   "cell_type": "code",
   "execution_count": 30,
   "metadata": {},
   "outputs": [
    {
     "data": {
      "text/plain": [
       "{'anu': 9390541112,\n",
       " 'John': 123456789,\n",
       " 'john': 123456789,\n",
       " 'gitam': 9988888888,\n",
       " 'Bindu': 9999999998}"
      ]
     },
     "execution_count": 30,
     "metadata": {},
     "output_type": "execute_result"
    }
   ],
   "source": [
    "contacts"
   ]
  },
  {
   "cell_type": "markdown",
   "metadata": {},
   "source": [
    "### Tuples\n",
    "- Tuples  enclosed with paranthesis\n",
    "### Diff Btw tuples and list\n",
    "- List are mutable-- can be changed/modify\n",
    "-      read and write data\n",
    "- Tuple are immutable--- can't be changed/modify\n",
    "-      Read only\n"
   ]
  },
  {
   "cell_type": "code",
   "execution_count": 31,
   "metadata": {},
   "outputs": [
    {
     "name": "stdout",
     "output_type": "stream",
     "text": [
      "(1, 2, 3, 4)\n"
     ]
    }
   ],
   "source": [
    "t1=(1,2,3,4)\n",
    "print(t1)"
   ]
  },
  {
   "cell_type": "markdown",
   "metadata": {},
   "source": [
    "### Standard libraries\n",
    "- Regular Expressions\n",
    "     - To Validate the Indian Mobile\n",
    "     - To Validate the EmailID\n",
    "     - To Validate the username\n",
    "     - To Validate the password\n",
    "- Understanding the regural Expressions\n",
    "    - [0-9]--- any digit matching\n",
    "    - [a-z]---- Any lower case matching\n",
    "    - [A-Z]----Any Upper\n",
    "    - cap Symbol is used to represent the start of Regural expression \n",
    "    - Dollor symbol is used to represent the end of regural exp"
   ]
  },
  {
   "cell_type": "code",
   "execution_count": 36,
   "metadata": {},
   "outputs": [
    {
     "name": "stdout",
     "output_type": "stream",
     "text": [
      "True\n",
      "False\n"
     ]
    }
   ],
   "source": [
    "# Function to test the two digit number as input\n",
    "# True --- Input two digit number\n",
    "# False --- Input not a two digit number\n",
    "import re\n",
    "def twoDigitMatching(n):\n",
    "    pattern='^[0-9]{2}$'\n",
    "    n=str(n)   # str() converts input into str format\n",
    "    if re.match(pattern,n):\n",
    "        return True\n",
    "    return False\n",
    "print(twoDigitMatching(12))\n",
    "print(twoDigitMatching(123))"
   ]
  },
  {
   "cell_type": "code",
   "execution_count": 41,
   "metadata": {},
   "outputs": [
    {
     "name": "stdout",
     "output_type": "stream",
     "text": [
      "True\n",
      "True\n",
      "False\n"
     ]
    }
   ],
   "source": [
    "# regular Expression for username\n",
    "# Username--- Should contains Lower and Upper Characters\n",
    "# Length --- Min 5 Max 12\n",
    "def validateUsername(s):\n",
    "    pattern='^[a-zA-Z]{5,12}$'\n",
    "    if re.match(pattern,s):\n",
    "        return True\n",
    "    return False\n",
    "print(validateUsername('AnushaAnu'))  \n",
    "print(validateUsername('Anusha'))\n",
    "print(validateUsername('pythonprogramming'))\n",
    "    "
   ]
  },
  {
   "cell_type": "markdown",
   "metadata": {},
   "source": [
    "### Regular Expression\n",
    "- Regular Expression for RollNumber\n",
    "    - Ex: 1521A0501 # Valid\n",
    "    - Ex: 1621A0574 # not valid\n",
    "- Regular Expression for password\n",
    "    - parameters- len min 6 max 10\n",
    "    - Accept Lower case, upper case, Digits and spl (@!$)\n",
    "    - Ex: Pass123@21 # valid\n",
    "    - Ex: Pass12*21 # not valid"
   ]
  },
  {
   "cell_type": "markdown",
   "metadata": {},
   "source": [
    "### Regular Expression for indain Mobile\n",
    "- 10 digit Number\n",
    "    - First Number is starts from [6-9]\n",
    "    - Rest of 9 numbers is between [0-9]\n",
    "            - Ex: 9875544689 # True\n",
    "            - Ex: 5676575560 # false\n",
    "- 11 Digit Number\n",
    "    - First Number can be 0\n",
    "    - Second Number can be [6-9]\n",
    "    - rest of numbers is btw[0-9]\n",
    "            - Ex: 09875567790 # True\n",
    "            - Ex: 99765655650 # False\n",
    "- 13 Digit Number\n",
    "    - 1st number can be +\n",
    "    - 2nd number 9\n",
    "    - 3rd no 1\n",
    "    - 4th no [6=9]\n",
    "    - Rest of numbers[0-9]\n",
    "            - Ex: +917657665567 # true\n",
    "            - Ex: 768678776666 # False"
   ]
  },
  {
   "cell_type": "code",
   "execution_count": 4,
   "metadata": {},
   "outputs": [
    {
     "data": {
      "text/plain": [
       "True"
      ]
     },
     "execution_count": 4,
     "metadata": {},
     "output_type": "execute_result"
    }
   ],
   "source": [
    "import re\n",
    "def validateIndianPhone(n):\n",
    "    pattern='^[6-9][0-9]{9}$|^[0][6-9][0-9]{9}$|^[+][9][1][6-9][0-9]{9}$'\n",
    "    n=str(n)\n",
    "    if re.match(pattern,n):\n",
    "        return True\n",
    "    return False \n",
    "validateIndianPhone('+919988776655')# true"
   ]
  },
  {
   "cell_type": "markdown",
   "metadata": {},
   "source": [
    "### Validate the EmailID\n",
    "- Ex: Username@domain.extension\n",
    "- Ex: dsps@gmail.com\n",
    "- Username :\n",
    "    - Len of string will be [6-15]\n",
    "    - no spl characters except Underscore(_)\n",
    "    - Username should not begins with underscore(_)\n",
    "    - All characters set Digits, lower case and upper case\n",
    "           -Example : Anu_1993\n",
    "- Domainname\n",
    "    - len of string will be [3-18]\n",
    "    - No spls characters\n",
    "    - characters set will be digits,lower case and upper case\n",
    "        - Example :gmail,hotmail,ymail, rediff etc..\n",
    "- Extensions:\n",
    "    - len of string will be [2-4]\n",
    "    - No spl characters allowed\n",
    "    - Character set will lower case characters\n",
    "        - Example: com in au uk\n",
    "    "
   ]
  },
  {
   "cell_type": "code",
   "execution_count": null,
   "metadata": {},
   "outputs": [],
   "source": [
    "# Username RE : [0-9a-zA-Z][0-9a-zA-Z_.]{5,14}\n",
    "# DomainName RE: [a-z0-9]{3,18}\n",
    "# Extension RE: [a-z]{2,4}\n",
    "# EmailID  RE: ^[0-9a-zA-Z][0-9a-zA-Z_.]{5,14}[@][a-z0-9]{3,18}[.][a-z]{2,4}$"
   ]
  },
  {
   "cell_type": "code",
   "execution_count": 6,
   "metadata": {},
   "outputs": [
    {
     "data": {
      "text/plain": [
       "True"
      ]
     },
     "execution_count": 6,
     "metadata": {},
     "output_type": "execute_result"
    }
   ],
   "source": [
    "def validateEmail(email):\n",
    "    pattern='^[0-9a-zA-Z][0-9a-zA-Z_.]{5,14}[@][a-z0-9]{3,18}[.][a-z]{2,4}$'\n",
    "    if re.match(pattern,email):\n",
    "        return True\n",
    "    return False\n",
    "validateEmail('anu1993@gmail.com')"
   ]
  },
  {
   "cell_type": "markdown",
   "metadata": {},
   "source": [
    "### Python Graphics\n",
    "- Lib - Turtle"
   ]
  },
  {
   "cell_type": "markdown",
   "metadata": {},
   "source": [
    "### Package,Module and sub package\n",
    "#### Package\n",
    "    - A collection of Modules(single Python file.py)\n",
    "#### Module\n",
    "    - A single Python File contains group of function\n",
    "    - Package ->Sub Package -> Modules ->Functions ->Statements\n",
    "    - Import keyword is used to import "
   ]
  },
  {
   "cell_type": "code",
   "execution_count": 7,
   "metadata": {},
   "outputs": [
    {
     "data": {
      "text/plain": [
       "123"
      ]
     },
     "execution_count": 7,
     "metadata": {},
     "output_type": "execute_result"
    }
   ],
   "source": [
    "import math\n",
    "math.floor(123.456)"
   ]
  },
  {
   "cell_type": "code",
   "execution_count": 8,
   "metadata": {},
   "outputs": [
    {
     "data": {
      "text/plain": [
       "124"
      ]
     },
     "execution_count": 8,
     "metadata": {},
     "output_type": "execute_result"
    }
   ],
   "source": [
    "math.ceil(123.456)"
   ]
  },
  {
   "cell_type": "code",
   "execution_count": 9,
   "metadata": {},
   "outputs": [
    {
     "data": {
      "text/plain": [
       "3628800"
      ]
     },
     "execution_count": 9,
     "metadata": {},
     "output_type": "execute_result"
    }
   ],
   "source": [
    "from math import factorial as fact  # imports only 1 function from the lib\n",
    "fact(10)"
   ]
  },
  {
   "cell_type": "code",
   "execution_count": 11,
   "metadata": {},
   "outputs": [
    {
     "data": {
      "text/plain": [
       "5"
      ]
     },
     "execution_count": 11,
     "metadata": {},
     "output_type": "execute_result"
    }
   ],
   "source": [
    "from math import gcd as gcd\n",
    "gcd(10,15)"
   ]
  },
  {
   "cell_type": "code",
   "execution_count": 20,
   "metadata": {},
   "outputs": [
    {
     "name": "stdout",
     "output_type": "stream",
     "text": [
      "68 92 1 59 46 13 56 82 99 43 "
     ]
    }
   ],
   "source": [
    "#import random package\n",
    "import random\n",
    "# Function to generate the N numbers in given range\n",
    "def generateRandNum(n,lb,ub):\n",
    "    for i in range(0,n):\n",
    "        print(random.randint(lb,ub),end=' ')\n",
    "    return\n",
    "generateRandNum(10,0,100)"
   ]
  },
  {
   "cell_type": "code",
   "execution_count": null,
   "metadata": {},
   "outputs": [],
   "source": [
    "# Create a simple game\n",
    "# Try to generate 20 numbers\n",
    "# Input : Number\n",
    "# Present : Congrats !!!\n",
    "# Not Present : Try again"
   ]
  },
  {
   "cell_type": "code",
   "execution_count": 34,
   "metadata": {},
   "outputs": [
    {
     "name": "stdout",
     "output_type": "stream",
     "text": [
      "Try again!!!\n"
     ]
    }
   ],
   "source": [
    "from random import randint as rdint\n",
    "def generateNumber(n,lb,ub):\n",
    "    li=[]\n",
    "    for i in range(0,n):\n",
    "        li.append(rdint(lb,ub))\n",
    "    return li\n",
    "def check(n):\n",
    "    li=generateNumber(20,100,999)\n",
    "    if n in li:\n",
    "        print('Congrats!!!')\n",
    "    else:  \n",
    "        print('Try again!!!')\n",
    "    return\n",
    "check(258)"
   ]
  },
  {
   "cell_type": "code",
   "execution_count": 7,
   "metadata": {},
   "outputs": [
    {
     "name": "stdout",
     "output_type": "stream",
     "text": [
      "The given angle is : 1.5707963267948966\n",
      "sin(x) is : 1.0\n",
      "cos(x) is : 6.123233995736766e-17\n",
      "tan(x) is : 1.633123935319537e+16\n"
     ]
    }
   ],
   "source": [
    "import math\n",
    "\n",
    "angleInDegree = 90\n",
    "angleInRadian = math.radians(angleInDegree)\n",
    "\n",
    "print('The given angle is :', angleInRadian)\n",
    "print('sin(x) is :', math.sin(angleInRadian))\n",
    "print('cos(x) is :', math.cos(angleInRadian))\n",
    "print('tan(x) is :', math.tan(angleInRadian))"
   ]
  },
  {
   "cell_type": "code",
   "execution_count": 6,
   "metadata": {},
   "outputs": [
    {
     "name": "stdout",
     "output_type": "stream",
     "text": [
      "The given number (x) is : 0.0001\n",
      "e^x (using exp() function) is : 0.0001000050001667141\n",
      "log(fabs(x), base) is : -3.999999999999999\n"
     ]
    }
   ],
   "source": [
    "import math\n",
    "\n",
    "number = 1e-4\n",
    "print('The given number (x) is :', number)\n",
    "print('e^x (using exp() function) is :', math.exp(number)-1)\n",
    "print('log(fabs(x), base) is :', math.log(math.fabs(number), 10))"
   ]
  },
  {
   "cell_type": "code",
   "execution_count": 4,
   "metadata": {},
   "outputs": [
    {
     "name": "stdout",
     "output_type": "stream",
     "text": [
      "The given number is : -21.19\n",
      "Floor value is : -22\n",
      "Ceiling value is : -21\n",
      "Absolute value is : 21.19\n",
      "3.141592653589793\n",
      "2.718281828459045\n",
      "-1.0\n",
      "0.0\n",
      "(0.9375, 5)\n",
      "0.9999999999999999\n",
      "1.0\n"
     ]
    }
   ],
   "source": [
    "import math\n",
    "\n",
    "number = -21.19\n",
    "print('The given number is :', number)\n",
    "print('Floor value is :', math.floor(number))\n",
    "print('Ceiling value is :', math.ceil(number))\n",
    "print('Absolute value is :', math.fabs(number))\n",
    "print(math.pi)\n",
    "print(math.e)\n",
    "print(math.copysign(1.0,-0.0))\n",
    "print(math.fmod(60,30))\n",
    "print(math.frexp(30))\n",
    "print(sum([.1, .1, .1, .1, .1, .1, .1, .1, .1, .1]))\n",
    "print(math.fsum([.1, .1, .1, .1, .1, .1, .1, .1, .1, .1]))\n",
    "\n"
   ]
  },
  {
   "cell_type": "code",
   "execution_count": 5,
   "metadata": {},
   "outputs": [
    {
     "name": "stdout",
     "output_type": "stream",
     "text": [
      "1582 "
     ]
    }
   ],
   "source": [
    "import random\n",
    "def generateRannum(n,lb,ub):\n",
    "    for i in range(0,n):\n",
    "        print(random.randint(lb,ub),end=\" \")\n",
    "    return\n",
    "generateRannum(1,1000,9999)"
   ]
  },
  {
   "cell_type": "code",
   "execution_count": 2,
   "metadata": {},
   "outputs": [
    {
     "name": "stdout",
     "output_type": "stream",
     "text": [
      "True\n",
      "False\n"
     ]
    }
   ],
   "source": [
    "import re\n",
    "def validateRollNum(s):\n",
    "    pattern = '^[1][5][0-9]{2}[A][0-9]{4}$'\n",
    "    if re.match(pattern,s):\n",
    "        return True\n",
    "    return False\n",
    "print(validateRollNum('1521A0501'))# true\n",
    "print(validateRollNum('1621A0574'))# false\n"
   ]
  },
  {
   "cell_type": "code",
   "execution_count": 1,
   "metadata": {},
   "outputs": [
    {
     "name": "stdout",
     "output_type": "stream",
     "text": [
      "True\n",
      "False\n"
     ]
    }
   ],
   "source": [
    "import re\n",
    "def validatePwd(s):\n",
    "    pattern = '^[0-9a-zA-z@!#]{6,10}$'\n",
    "    if re.match(pattern,s):\n",
    "        return True\n",
    "    return False\n",
    "print(validatePwd('Pass123@21'))# true\n",
    "print(validatePwd('Pass12*21'))# false\n"
   ]
  },
  {
   "cell_type": "code",
   "execution_count": null,
   "metadata": {},
   "outputs": [],
   "source": []
  }
 ],
 "metadata": {
  "kernelspec": {
   "display_name": "Python 3",
   "language": "python",
   "name": "python3"
  },
  "language_info": {
   "codemirror_mode": {
    "name": "ipython",
    "version": 3
   },
   "file_extension": ".py",
   "mimetype": "text/x-python",
   "name": "python",
   "nbconvert_exporter": "python",
   "pygments_lexer": "ipython3",
   "version": "3.7.3"
  }
 },
 "nbformat": 4,
 "nbformat_minor": 2
}
